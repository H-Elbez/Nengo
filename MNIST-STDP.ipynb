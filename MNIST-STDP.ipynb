{
 "cells": [
  {
   "cell_type": "code",
   "execution_count": 19,
   "metadata": {},
   "outputs": [],
   "source": [
    "import nengo\n",
    "import numpy as np\n",
    "from numpy import random\n",
    "import matplotlib.pyplot as plt\n",
    "import matplotlib.cm as cm\n",
    "from simplified_stdp import STDP\n",
    "import tensorflow as tf\n",
    "import os\n",
    "from nengo.dists import Choice\n",
    "from datetime import datetime\n",
    "from nengo_extras.data import load_mnist\n",
    "import pickle\n",
    "plt.rcParams.update({'figure.max_open_warning': 0})\n",
    "\n",
    "from nengo.utils.matplotlib import rasterplot\n",
    "\n",
    "\n",
    "import numpy as np\n",
    "\n",
    "import nengo.utils.numpy as npext\n",
    "from nengo.base import Process\n",
    "from nengo.dists import DistributionParam, Gaussian\n",
    "from nengo.exceptions import ValidationError\n",
    "from nengo.params import (\n",
    "    BoolParam, DictParam, EnumParam, NdarrayParam, NumberParam)\n",
    "from nengo.synapses import LinearFilter, Lowpass, SynapseParam\n"
   ]
  },
  {
   "cell_type": "code",
   "execution_count": 10,
   "metadata": {},
   "outputs": [],
   "source": [
    "#############################\n",
    "# load the data\n",
    "#############################\n",
    "\n",
    "img_rows, img_cols = 28, 28\n",
    "input_nbr = 100\n",
    "\n",
    "(image_train, label_train), (image_test, label_test) = (tf.keras.datasets.mnist.load_data())\n",
    "\n",
    "#select the 0s and 1s as the two classes from MNIST data\n",
    "image_train_filtered = []\n",
    "label_train_filtered = []\n",
    "\n",
    "# x = 3\n",
    "# for i in range(0,input_nbr):\n",
    "#   if label_train[i] == x:\n",
    "#         image_train_filtered.append(image_train[i])\n",
    "#         label_train_filtered.append(label_train[i])\n",
    "#         if x == 3:\n",
    "#             x = 2\n",
    "#         else:\n",
    "#             x = 3\n",
    "\n",
    "for i in range(0,input_nbr):\n",
    "    image_train_filtered.append(image_train[i])\n",
    "    label_train_filtered.append(label_train[i])\n",
    "\n",
    "image_train_filtered = np.array(image_train_filtered)\n",
    "label_train_filtered = np.array(label_train_filtered)"
   ]
  },
  {
   "cell_type": "code",
   "execution_count": 31,
   "metadata": {},
   "outputs": [],
   "source": [
    "#############################\n",
    "# Helpfull methodes\n",
    "#############################\n",
    "\n",
    "def sparsity_measure(vector):  # Gini index\n",
    "    # Max sparsity = 1 (single 1 in the vector)\n",
    "    v = np.sort(np.abs(vector))\n",
    "    n = v.shape[0]\n",
    "    k = np.arange(n) + 1\n",
    "    l1norm = np.sum(v)\n",
    "    summation = np.sum((v / l1norm) * ((n - k + 0.5) / n))\n",
    "    return 1 - 2 * summation\n",
    "\n",
    "def HeatMapSave(network,name,probe,samples=1,neuron=1):\n",
    "    x = int(samples/100)\n",
    "\n",
    "    if not os.path.exists(name):\n",
    "        os.makedirs(name)\n",
    "\n",
    "    plt.matshow(np.reshape(network.data[probe][:,neuron][samples-1],(28,28)))\n",
    "    plt.title(samples-1)\n",
    "    plt.savefig(name+\"/\"+str(neuron)+\":\"+str(samples-1)+\".png\")\n",
    "    plt.cla()\n",
    "    \n",
    "    \n",
    "class PresentInput(nengo.Process):\n",
    "    \"\"\"Present a series of inputs, each for the same fixed length of time.\n",
    "\n",
    "    Parameters\n",
    "    ----------\n",
    "    inputs : array_like\n",
    "        Inputs to present, where each row is an input. Rows will be flattened.\n",
    "    presentation_time : float\n",
    "        Show each input for this amount of time (in seconds).\n",
    "    \"\"\"\n",
    "\n",
    "    inputs = NdarrayParam('inputs', shape=('...',))\n",
    "    presentation_time = NumberParam('presentation_time', low=0, low_open=True)\n",
    "\n",
    "    def __init__(self, inputs, presentation_time, **kwargs):\n",
    "        self.inputs = inputs\n",
    "        self.presentation_time = presentation_time\n",
    "        super(PresentInput, self).__init__(\n",
    "            default_size_in=0, default_size_out=self.inputs[0].size, **kwargs)\n",
    "\n",
    "    def make_step(self, shape_in, shape_out, dt, rng):\n",
    "        assert shape_in == (0,)\n",
    "        assert shape_out == (self.inputs[0].size,)\n",
    "\n",
    "        n = len(self.inputs)\n",
    "        inputs = self.inputs.reshape(n, -1)\n",
    "        presentation_time = float(self.presentation_time)\n",
    "\n",
    "        def step_presentinput(t):\n",
    "            pause_time = 100/1000\n",
    "            i = int((t-dt) / (presentation_time-pause_time) + 1e-7)\n",
    "            return inputs[i % n]\n",
    "\n",
    "        return step_presentinput"
   ]
  },
  {
   "cell_type": "code",
   "execution_count": 36,
   "metadata": {},
   "outputs": [
    {
     "data": {
      "application/vdom.v1+json": {
       "attributes": {},
       "tagName": "div"
      },
      "text/html": [
       "\n",
       "                <script>\n",
       "                    if (Jupyter.version.split(\".\")[0] < 5) {\n",
       "                        var pb = document.getElementById(\"40a92436-9176-49e8-83b5-67edf33315b1\");\n",
       "                        var text = document.createTextNode(\n",
       "                            \"HMTL progress bar requires Jupyter Notebook >= \" +\n",
       "                            \"5.0 or Jupyter Lab. Alternatively, you can use \" +\n",
       "                            \"TerminalProgressBar().\");\n",
       "                        pb.parentNode.insertBefore(text, pb);\n",
       "                    }\n",
       "                </script>\n",
       "                <div id=\"40a92436-9176-49e8-83b5-67edf33315b1\" style=\"\n",
       "                    width: 100%;\n",
       "                    border: 1px solid #cfcfcf;\n",
       "                    border-radius: 4px;\n",
       "                    text-align: center;\n",
       "                    position: relative;\">\n",
       "                  <div class=\"pb-text\" style=\"\n",
       "                      position: absolute;\n",
       "                      width: 100%;\">\n",
       "                    0%\n",
       "                  </div>\n",
       "                  <div class=\"pb-fill\" style=\"\n",
       "                      background-color: #bdd2e6;\n",
       "                      width: 0%;\">\n",
       "                    <style type=\"text/css\" scoped=\"scoped\">\n",
       "                        @keyframes pb-fill-anim {\n",
       "                            0% { background-position: 0 0; }\n",
       "                            100% { background-position: 100px 0; }\n",
       "                        }\n",
       "                    </style>\n",
       "                    &nbsp;\n",
       "                  </div>\n",
       "                </div>"
      ],
      "text/plain": [
       "HtmlProgressBar cannot be displayed. Please use the TerminalProgressBar. It can be enabled with `nengo.rc['progress']['progress_bar'] = 'nengo.utils.progress.TerminalProgressBar'`."
      ]
     },
     "metadata": {},
     "output_type": "display_data"
    },
    {
     "data": {
      "application/vdom.v1+json": {
       "attributes": {
        "id": "a784877e-d292-4f4f-91c3-d9f418ffb2bd",
        "style": {
         "border": "1px solid #cfcfcf",
         "borderRadius": "4px",
         "boxSizing": "border-box",
         "position": "relative",
         "textAlign": "center",
         "width": "100%"
        }
       },
       "children": [
        {
         "attributes": {
          "class": "pb-text",
          "style": {
           "position": "absolute",
           "width": "100%"
          }
         },
         "children": [
          "Build finished in 0:00:01."
         ],
         "tagName": "div"
        },
        {
         "attributes": {
          "class": "pb-fill",
          "style": {
           "animation": "none",
           "backgroundColor": "#bdd2e6",
           "backgroundImage": "none",
           "backgroundSize": "100px 100%",
           "width": "100%"
          }
         },
         "children": [
          {
           "attributes": {
            "scoped": "scoped",
            "type": "text/css"
           },
           "children": [
            "\n                        @keyframes pb-fill-anim {\n                            0% { background-position: 0 0; }\n                            100% { background-position: 100px 0; }\n                        }}"
           ],
           "tagName": "style"
          },
          " "
         ],
         "tagName": "div"
        }
       ],
       "tagName": "div"
      },
      "text/html": [
       "<script>\n",
       "              (function () {\n",
       "                  var root = document.getElementById('40a92436-9176-49e8-83b5-67edf33315b1');\n",
       "                  var text = root.getElementsByClassName('pb-text')[0];\n",
       "                  var fill = root.getElementsByClassName('pb-fill')[0];\n",
       "\n",
       "                  text.innerHTML = 'Build finished in 0:00:01.';\n",
       "                  \n",
       "            fill.style.width = '100%';\n",
       "            fill.style.animation = 'pb-fill-anim 2s linear infinite';\n",
       "            fill.style.backgroundSize = '100px 100%';\n",
       "            fill.style.backgroundImage = 'repeating-linear-gradient(' +\n",
       "                '90deg, #bdd2e6, #edf2f8 40%, #bdd2e6 80%, #bdd2e6)';\n",
       "        \n",
       "                  \n",
       "                fill.style.animation = 'none';\n",
       "                fill.style.backgroundImage = 'none';\n",
       "            \n",
       "              })();\n",
       "        </script>"
      ]
     },
     "metadata": {},
     "output_type": "display_data"
    },
    {
     "data": {
      "application/vdom.v1+json": {
       "attributes": {},
       "tagName": "div"
      },
      "text/html": [
       "\n",
       "                <script>\n",
       "                    if (Jupyter.version.split(\".\")[0] < 5) {\n",
       "                        var pb = document.getElementById(\"e893abd5-fa48-464b-9da3-f38366e2aa8b\");\n",
       "                        var text = document.createTextNode(\n",
       "                            \"HMTL progress bar requires Jupyter Notebook >= \" +\n",
       "                            \"5.0 or Jupyter Lab. Alternatively, you can use \" +\n",
       "                            \"TerminalProgressBar().\");\n",
       "                        pb.parentNode.insertBefore(text, pb);\n",
       "                    }\n",
       "                </script>\n",
       "                <div id=\"e893abd5-fa48-464b-9da3-f38366e2aa8b\" style=\"\n",
       "                    width: 100%;\n",
       "                    border: 1px solid #cfcfcf;\n",
       "                    border-radius: 4px;\n",
       "                    text-align: center;\n",
       "                    position: relative;\">\n",
       "                  <div class=\"pb-text\" style=\"\n",
       "                      position: absolute;\n",
       "                      width: 100%;\">\n",
       "                    0%\n",
       "                  </div>\n",
       "                  <div class=\"pb-fill\" style=\"\n",
       "                      background-color: #bdd2e6;\n",
       "                      width: 0%;\">\n",
       "                    <style type=\"text/css\" scoped=\"scoped\">\n",
       "                        @keyframes pb-fill-anim {\n",
       "                            0% { background-position: 0 0; }\n",
       "                            100% { background-position: 100px 0; }\n",
       "                        }\n",
       "                    </style>\n",
       "                    &nbsp;\n",
       "                  </div>\n",
       "                </div>"
      ],
      "text/plain": [
       "HtmlProgressBar cannot be displayed. Please use the TerminalProgressBar. It can be enabled with `nengo.rc['progress']['progress_bar'] = 'nengo.utils.progress.TerminalProgressBar'`."
      ]
     },
     "metadata": {},
     "output_type": "display_data"
    },
    {
     "data": {
      "application/vdom.v1+json": {
       "attributes": {
        "id": "c1087044-4e6d-4199-a295-329e1adf3a34",
        "style": {
         "border": "1px solid #cfcfcf",
         "borderRadius": "4px",
         "boxSizing": "border-box",
         "position": "relative",
         "textAlign": "center",
         "width": "100%"
        }
       },
       "children": [
        {
         "attributes": {
          "class": "pb-text",
          "style": {
           "position": "absolute",
           "width": "100%"
          }
         },
         "children": [
          "Simulation finished in 0:00:04."
         ],
         "tagName": "div"
        },
        {
         "attributes": {
          "class": "pb-fill",
          "style": {
           "animation": "none",
           "backgroundColor": "#bdd2e6",
           "backgroundImage": "none",
           "transition": "width 0.1s linear",
           "width": "12%"
          }
         },
         "children": [
          {
           "attributes": {
            "scoped": "scoped",
            "type": "text/css"
           },
           "children": [
            "\n                        @keyframes pb-fill-anim {\n                            0% { background-position: 0 0; }\n                            100% { background-position: 100px 0; }\n                        }}"
           ],
           "tagName": "style"
          },
          " "
         ],
         "tagName": "div"
        }
       ],
       "tagName": "div"
      },
      "text/html": [
       "<script>\n",
       "              (function () {\n",
       "                  var root = document.getElementById('e893abd5-fa48-464b-9da3-f38366e2aa8b');\n",
       "                  var text = root.getElementsByClassName('pb-text')[0];\n",
       "                  var fill = root.getElementsByClassName('pb-fill')[0];\n",
       "\n",
       "                  text.innerHTML = 'Simulation finished in 0:00:04.';\n",
       "                  \n",
       "            if (11.965 > 0.) {\n",
       "                fill.style.transition = 'width 0.1s linear';\n",
       "            } else {\n",
       "                fill.style.transition = 'none';\n",
       "            }\n",
       "\n",
       "            fill.style.width = '11.965%';\n",
       "            fill.style.animation = 'none';\n",
       "            fill.style.backgroundImage = 'none'\n",
       "        \n",
       "                  \n",
       "                fill.style.animation = 'none';\n",
       "                fill.style.backgroundImage = 'none';\n",
       "            \n",
       "              })();\n",
       "        </script>"
      ]
     },
     "metadata": {},
     "output_type": "display_data"
    },
    {
     "ename": "KeyboardInterrupt",
     "evalue": "",
     "output_type": "error",
     "traceback": [
      "\u001b[0;31m---------------------------------------------------------------------------\u001b[0m",
      "\u001b[0;31mKeyboardInterrupt\u001b[0m                         Traceback (most recent call last)",
      "\u001b[0;32m<ipython-input-36-2f031132c5e4>\u001b[0m in \u001b[0;36m<module>\u001b[0;34m\u001b[0m\n\u001b[1;32m     99\u001b[0m \u001b[0;34m\u001b[0m\u001b[0m\n\u001b[1;32m    100\u001b[0m \u001b[0;32mwith\u001b[0m \u001b[0mnengo\u001b[0m\u001b[0;34m.\u001b[0m\u001b[0mSimulator\u001b[0m\u001b[0;34m(\u001b[0m\u001b[0mmodel\u001b[0m\u001b[0;34m)\u001b[0m \u001b[0;32mas\u001b[0m \u001b[0msim\u001b[0m\u001b[0;34m:\u001b[0m\u001b[0;34m\u001b[0m\u001b[0;34m\u001b[0m\u001b[0m\n\u001b[0;32m--> 101\u001b[0;31m     \u001b[0msim\u001b[0m\u001b[0;34m.\u001b[0m\u001b[0mrun\u001b[0m\u001b[0;34m(\u001b[0m\u001b[0;34m(\u001b[0m\u001b[0mpresentation_time\u001b[0m\u001b[0;34m)\u001b[0m \u001b[0;34m*\u001b[0m \u001b[0mlabel_train_filtered\u001b[0m\u001b[0;34m.\u001b[0m\u001b[0mshape\u001b[0m\u001b[0;34m[\u001b[0m\u001b[0;36m0\u001b[0m\u001b[0;34m]\u001b[0m\u001b[0;34m)\u001b[0m\u001b[0;34m\u001b[0m\u001b[0;34m\u001b[0m\u001b[0m\n\u001b[0m\u001b[1;32m    102\u001b[0m \u001b[0;34m\u001b[0m\u001b[0m\n\u001b[1;32m    103\u001b[0m \u001b[0;31m#save the model\u001b[0m\u001b[0;34m\u001b[0m\u001b[0;34m\u001b[0m\u001b[0;34m\u001b[0m\u001b[0m\n",
      "\u001b[0;32m~/nengo/nengo/simulator.py\u001b[0m in \u001b[0;36mrun\u001b[0;34m(self, time_in_seconds, progress_bar)\u001b[0m\n\u001b[1;32m    381\u001b[0m                 \u001b[0msteps\u001b[0m\u001b[0;34m,\u001b[0m\u001b[0;34m\u001b[0m\u001b[0;34m\u001b[0m\u001b[0m\n\u001b[1;32m    382\u001b[0m             )\n\u001b[0;32m--> 383\u001b[0;31m             \u001b[0mself\u001b[0m\u001b[0;34m.\u001b[0m\u001b[0mrun_steps\u001b[0m\u001b[0;34m(\u001b[0m\u001b[0msteps\u001b[0m\u001b[0;34m,\u001b[0m \u001b[0mprogress_bar\u001b[0m\u001b[0;34m=\u001b[0m\u001b[0mprogress_bar\u001b[0m\u001b[0;34m)\u001b[0m\u001b[0;34m\u001b[0m\u001b[0;34m\u001b[0m\u001b[0m\n\u001b[0m\u001b[1;32m    384\u001b[0m \u001b[0;34m\u001b[0m\u001b[0m\n\u001b[1;32m    385\u001b[0m     \u001b[0;32mdef\u001b[0m \u001b[0mrun_steps\u001b[0m\u001b[0;34m(\u001b[0m\u001b[0mself\u001b[0m\u001b[0;34m,\u001b[0m \u001b[0msteps\u001b[0m\u001b[0;34m,\u001b[0m \u001b[0mprogress_bar\u001b[0m\u001b[0;34m=\u001b[0m\u001b[0;32mNone\u001b[0m\u001b[0;34m)\u001b[0m\u001b[0;34m:\u001b[0m\u001b[0;34m\u001b[0m\u001b[0;34m\u001b[0m\u001b[0m\n",
      "\u001b[0;32m~/nengo/nengo/simulator.py\u001b[0m in \u001b[0;36mrun_steps\u001b[0;34m(self, steps, progress_bar)\u001b[0m\n\u001b[1;32m    405\u001b[0m         ) as pt:\n\u001b[1;32m    406\u001b[0m             \u001b[0;32mfor\u001b[0m \u001b[0m_\u001b[0m \u001b[0;32min\u001b[0m \u001b[0mrange\u001b[0m\u001b[0;34m(\u001b[0m\u001b[0msteps\u001b[0m\u001b[0;34m)\u001b[0m\u001b[0;34m:\u001b[0m\u001b[0;34m\u001b[0m\u001b[0;34m\u001b[0m\u001b[0m\n\u001b[0;32m--> 407\u001b[0;31m                 \u001b[0mself\u001b[0m\u001b[0;34m.\u001b[0m\u001b[0mstep\u001b[0m\u001b[0;34m(\u001b[0m\u001b[0;34m)\u001b[0m\u001b[0;34m\u001b[0m\u001b[0;34m\u001b[0m\u001b[0m\n\u001b[0m\u001b[1;32m    408\u001b[0m                 \u001b[0mpt\u001b[0m\u001b[0;34m.\u001b[0m\u001b[0mtotal_progress\u001b[0m\u001b[0;34m.\u001b[0m\u001b[0mstep\u001b[0m\u001b[0;34m(\u001b[0m\u001b[0;34m)\u001b[0m\u001b[0;34m\u001b[0m\u001b[0;34m\u001b[0m\u001b[0m\n\u001b[1;32m    409\u001b[0m \u001b[0;34m\u001b[0m\u001b[0m\n",
      "\u001b[0;32m~/nengo/nengo/simulator.py\u001b[0m in \u001b[0;36mstep\u001b[0;34m(self)\u001b[0m\n\u001b[1;32m    416\u001b[0m         \u001b[0;32mtry\u001b[0m\u001b[0;34m:\u001b[0m\u001b[0;34m\u001b[0m\u001b[0;34m\u001b[0m\u001b[0m\n\u001b[1;32m    417\u001b[0m             \u001b[0;32mfor\u001b[0m \u001b[0mstep_fn\u001b[0m \u001b[0;32min\u001b[0m \u001b[0mself\u001b[0m\u001b[0;34m.\u001b[0m\u001b[0m_steps\u001b[0m\u001b[0;34m:\u001b[0m\u001b[0;34m\u001b[0m\u001b[0;34m\u001b[0m\u001b[0m\n\u001b[0;32m--> 418\u001b[0;31m                 \u001b[0mstep_fn\u001b[0m\u001b[0;34m(\u001b[0m\u001b[0;34m)\u001b[0m\u001b[0;34m\u001b[0m\u001b[0;34m\u001b[0m\u001b[0m\n\u001b[0m\u001b[1;32m    419\u001b[0m         \u001b[0;32mfinally\u001b[0m\u001b[0;34m:\u001b[0m\u001b[0;34m\u001b[0m\u001b[0;34m\u001b[0m\u001b[0m\n\u001b[1;32m    420\u001b[0m             \u001b[0mnp\u001b[0m\u001b[0;34m.\u001b[0m\u001b[0mseterr\u001b[0m\u001b[0;34m(\u001b[0m\u001b[0;34m**\u001b[0m\u001b[0mold_err\u001b[0m\u001b[0;34m)\u001b[0m\u001b[0;34m\u001b[0m\u001b[0;34m\u001b[0m\u001b[0m\n",
      "\u001b[0;32m~/nengo/nengo/builder/neurons.py\u001b[0m in \u001b[0;36mstep_simneurons\u001b[0;34m()\u001b[0m\n\u001b[1;32m     93\u001b[0m \u001b[0;34m\u001b[0m\u001b[0m\n\u001b[1;32m     94\u001b[0m         \u001b[0;32mdef\u001b[0m \u001b[0mstep_simneurons\u001b[0m\u001b[0;34m(\u001b[0m\u001b[0;34m)\u001b[0m\u001b[0;34m:\u001b[0m\u001b[0;34m\u001b[0m\u001b[0;34m\u001b[0m\u001b[0m\n\u001b[0;32m---> 95\u001b[0;31m             \u001b[0mself\u001b[0m\u001b[0;34m.\u001b[0m\u001b[0mneurons\u001b[0m\u001b[0;34m.\u001b[0m\u001b[0mstep\u001b[0m\u001b[0;34m(\u001b[0m\u001b[0mdt\u001b[0m\u001b[0;34m,\u001b[0m \u001b[0mJ\u001b[0m\u001b[0;34m,\u001b[0m \u001b[0moutput\u001b[0m\u001b[0;34m,\u001b[0m \u001b[0;34m**\u001b[0m\u001b[0mstate\u001b[0m\u001b[0;34m)\u001b[0m\u001b[0;34m\u001b[0m\u001b[0;34m\u001b[0m\u001b[0m\n\u001b[0m\u001b[1;32m     96\u001b[0m \u001b[0;34m\u001b[0m\u001b[0m\n\u001b[1;32m     97\u001b[0m         \u001b[0;32mreturn\u001b[0m \u001b[0mstep_simneurons\u001b[0m\u001b[0;34m\u001b[0m\u001b[0;34m\u001b[0m\u001b[0m\n",
      "\u001b[0;32m~/nengo/nengo/neurons.py\u001b[0m in \u001b[0;36mstep\u001b[0;34m(self, dt, J, output, voltage, refractory_time)\u001b[0m\n\u001b[1;32m    664\u001b[0m         \u001b[0;31m# since v(t) = v(0) + (J - v(0))*(1 - exp(-t/tau)) assuming\u001b[0m\u001b[0;34m\u001b[0m\u001b[0;34m\u001b[0m\u001b[0;34m\u001b[0m\u001b[0m\n\u001b[1;32m    665\u001b[0m         \u001b[0;31m# J is constant over the interval [t, t + dt)\u001b[0m\u001b[0;34m\u001b[0m\u001b[0;34m\u001b[0m\u001b[0;34m\u001b[0m\u001b[0m\n\u001b[0;32m--> 666\u001b[0;31m         \u001b[0mvoltage\u001b[0m \u001b[0;34m-=\u001b[0m \u001b[0;34m(\u001b[0m\u001b[0mJ\u001b[0m \u001b[0;34m-\u001b[0m \u001b[0mvoltage\u001b[0m\u001b[0;34m)\u001b[0m \u001b[0;34m*\u001b[0m \u001b[0mnp\u001b[0m\u001b[0;34m.\u001b[0m\u001b[0mexpm1\u001b[0m\u001b[0;34m(\u001b[0m\u001b[0;34m-\u001b[0m\u001b[0mdelta_t\u001b[0m \u001b[0;34m/\u001b[0m \u001b[0mtau_rc\u001b[0m\u001b[0;34m)\u001b[0m\u001b[0;34m\u001b[0m\u001b[0;34m\u001b[0m\u001b[0m\n\u001b[0m\u001b[1;32m    667\u001b[0m \u001b[0;34m\u001b[0m\u001b[0m\n\u001b[1;32m    668\u001b[0m         \u001b[0;31m# determine which neurons spiked (set them to 1/dt, else 0)\u001b[0m\u001b[0;34m\u001b[0m\u001b[0;34m\u001b[0m\u001b[0;34m\u001b[0m\u001b[0m\n",
      "\u001b[0;31mKeyboardInterrupt\u001b[0m: "
     ]
    }
   ],
   "source": [
    "model = nengo.Network(\"My network\")\n",
    "#############################\n",
    "# Model construction\n",
    "#############################\n",
    "\n",
    "presentation_time = 0.20 #0.35\n",
    "#input layer\n",
    "\n",
    "n_in = 784\n",
    "n_neurons = 10\n",
    "\n",
    "with model:\n",
    "\n",
    "    # input layer \n",
    "    picture = nengo.Node(nengo.processes.PresentInput(image_train_filtered, presentation_time))\n",
    "    true_label = nengo.Node(nengo.processes.PresentInput(label_train_filtered, presentation_time))\n",
    "    \n",
    "    input_layer = nengo.Ensemble(\n",
    "        784,\n",
    "        1,\n",
    "        label=\"input\",\n",
    "        max_rates=nengo.dists.Uniform(22, 22),\n",
    "        intercepts=nengo.dists.Choice([0]),\n",
    "        )\n",
    "    input_conn = nengo.Connection(picture,input_layer.neurons,synapse=None)\n",
    "\n",
    "    # weights randomly initiated \n",
    "    layer1_weights = random.random((n_neurons, n_in))\n",
    "   \n",
    "    #Noise \n",
    "    process = nengo.processes.WhiteNoise(dist=nengo.dists.Gaussian(0, 22), seed=5)\n",
    "\n",
    "    # define first layer\n",
    "    layer1 = nengo.Ensemble(\n",
    "         n_neurons,\n",
    "         1,\n",
    "         neuron_type=nengo.neurons.AdaptiveLIF(tau_rc=0.1),\n",
    "#          max_rates=nengo.dists.Uniform(500, 500),\n",
    "         intercepts=nengo.dists.Choice([0]),\n",
    "#          encoders = nengo.dists.Uniform(0,1), \n",
    "         label=\"layer1\",\n",
    "        noise=process,\n",
    "         max_rates=nengo.dists.Uniform(250,499),\n",
    "#          intercepts=nengo.dists.Choice([0])\n",
    "         )\n",
    "\n",
    "    # define connection between the two layers\n",
    "    conn1 = nengo.Connection(\n",
    "        input_layer.neurons,\n",
    "        layer1.neurons,\n",
    "        synapse=None,\n",
    "        transform = layer1_weights,\n",
    "#         learning_rule_type = [nengo.BCM(learning_rate=5e-10),nengo.Oja(learning_rate=2e-9)]\n",
    "        learning_rule_type=STDP(\n",
    "            alf_p=0.005,\n",
    "            alf_n=0.01,\n",
    "            beta_p=1.5,\n",
    "            beta_n=2.5,\n",
    "            bounds='soft',\n",
    "            max_weight=1,\n",
    "            min_weight=0.1*0.1\n",
    "        )\n",
    "        )\n",
    "\n",
    "#     create inhibitory layer \n",
    "#     layer1_inh = nengo.Ensemble(\n",
    "#          n_neurons,\n",
    "#          1,\n",
    "#          neuron_type=nengo.neurons.LIF(),\n",
    "#         gain = nengo.dists.Uniform(2,2), \n",
    "#          bias = nengo.dists.Uniform(0,0), \n",
    "#          encoders = nengo.dists.Uniform(1,1), \n",
    "#          label=\"layer1\",\n",
    "#          max_rates=nengo.dists.Uniform(20,50),\n",
    "#          intercepts=nengo.dists.Choice([0])\n",
    "#          )\n",
    "    \n",
    "#     exc_inh_wegihts = np.eye(n_neurons)*5\n",
    "#     inh_exc_wegihts = (np.full((n_neurons, n_neurons), 1) - np.eye(n_neurons)) * 5\n",
    "    \n",
    "#     conn_exc_inh = nengo.Connection(layer1.neurons, layer1_inh.neurons, transform=exc_inh_wegihts)\n",
    "#     conn_inh_exc = nengo.Connection(layer1_inh.neurons, layer1.neurons, transform=inh_exc_wegihts)\n",
    "    \n",
    "    \n",
    "    inhib_wegihts = (np.full((n_neurons, n_neurons), 1) - np.eye(n_neurons)) * -100\n",
    "\n",
    "    inhib = nengo.Connection(layer1.neurons, layer1.neurons, transform=inhib_wegihts)\n",
    "        \n",
    "    #############################\n",
    "\n",
    "    #############################\n",
    "    # setup the probes\n",
    "    #############################\n",
    "\n",
    "    connection_layer1_probe = nengo.Probe(conn1,\"weights\",label=\"layer1_synapses\") \n",
    "    \n",
    "    p_true_label = nengo.Probe(true_label)\n",
    "    p_layer_1 = nengo.Probe(layer1.neurons)\n",
    "\n",
    "with nengo.Simulator(model) as sim:\n",
    "    sim.run((presentation_time) * label_train_filtered.shape[0])\n",
    "\n",
    "#save the model\n",
    "pickle.dump(sim.data[connection_layer1_probe][-1], open( \"mnist_params_STDP\", \"wb\" ))\n",
    "\n",
    "now = str(datetime.now().time())\n",
    "folder = \"My Sim \"+now\n",
    "\n",
    "for i in range(0,(n_neurons)):\n",
    "   HeatMapSave(sim,folder,connection_layer1_probe,sim.data[connection_layer1_probe].shape[0],i)"
   ]
  },
  {
   "cell_type": "code",
   "execution_count": 13,
   "metadata": {},
   "outputs": [
    {
     "data": {
      "text/plain": [
       "[<matplotlib.lines.Line2D at 0x13f082f10>]"
      ]
     },
     "execution_count": 13,
     "metadata": {},
     "output_type": "execute_result"
    },
    {
     "data": {
      "image/png": "[encoded data removed]",
      "text/plain": [
       "<Figure size 1728x360 with 2 Axes>"
      ]
     },
     "metadata": {
      "needs_background": "light"
     },
     "output_type": "display_data"
    }
   ],
   "source": [
    "plt.figure(figsize=(24,5))\n",
    "plt.subplot(2,1,1)\n",
    "plt.title('Output neurons')\n",
    "rasterplot(sim.trange(), sim.data[p_layer_1])\n",
    "plt.xlabel(\"Time [s]\")\n",
    "plt.ylabel(\"Neuron index\")\n",
    "plt.subplot(2,1,2)\n",
    "plt.plot(sim.trange(), sim.data[p_true_label]/1000, c='k', label='spikes')"
   ]
  },
  {
   "cell_type": "code",
   "execution_count": null,
   "metadata": {},
   "outputs": [],
   "source": []
  },
  {
   "cell_type": "code",
   "execution_count": null,
   "metadata": {},
   "outputs": [],
   "source": []
  }
 ],
 "metadata": {
  "kernelspec": {
   "display_name": "Python 3",
   "language": "python",
   "name": "python3"
  },
  "language_info": {
   "codemirror_mode": {
    "name": "ipython",
    "version": 3
   },
   "file_extension": ".py",
   "mimetype": "text/x-python",
   "name": "python",
   "nbconvert_exporter": "python",
   "pygments_lexer": "ipython3",
   "version": "3.8.3"
  }
 },
 "nbformat": 4,
 "nbformat_minor": 4
}
