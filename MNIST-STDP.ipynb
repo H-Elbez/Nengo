{
 "cells": [
  {
   "cell_type": "code",
   "execution_count": 59,
   "metadata": {},
   "outputs": [],
   "source": [
    "import nengo\n",
    "import numpy as np\n",
    "from numpy import random\n",
    "import matplotlib.pyplot as plt\n",
    "import matplotlib.cm as cm\n",
    "from simplified_stdp import STDP\n",
    "from DataLog import DataLog\n",
    "import tensorflow as tf\n",
    "import os\n",
    "from nengo.dists import Choice\n",
    "from datetime import datetime\n",
    "from nengo_extras.data import load_mnist\n",
    "import pickle\n",
    "plt.rcParams.update({'figure.max_open_warning': 0})\n",
    "\n",
    "from nengo.utils.matplotlib import rasterplot\n"
   ]
  },
  {
   "cell_type": "code",
   "execution_count": 116,
   "metadata": {},
   "outputs": [],
   "source": [
    "#############################\n",
    "# load the data\n",
    "#############################\n",
    "\n",
    "img_rows, img_cols = 28, 28\n",
    "input_nbr = 400\n",
    "\n",
    "(image_train, label_train), (image_test, label_test) = (tf.keras.datasets.mnist.load_data())\n",
    "\n",
    "#select the 0s and 1s as the two classes from MNIST data\n",
    "image_train_filtered = []\n",
    "label_train_filtered = []\n",
    "\n",
    "x = 0\n",
    "for i in range(0,input_nbr):\n",
    "  if label_train[i] == x:\n",
    "        image_train_filtered.append(image_train[i])\n",
    "        label_train_filtered.append(label_train[i])\n",
    "        if x == 0:\n",
    "            x = 1\n",
    "        else:\n",
    "            x = 0\n",
    "\n",
    "image_train_filtered = np.array(image_train_filtered)\n",
    "label_train_filtered = np.array(label_train_filtered)"
   ]
  },
  {
   "cell_type": "code",
   "execution_count": 117,
   "metadata": {},
   "outputs": [],
   "source": [
    "#############################\n",
    "# Helpfull methodes\n",
    "#############################\n",
    "\n",
    "def sparsity_measure(vector):  # Gini index\n",
    "    # Max sparsity = 1 (single 1 in the vector)\n",
    "    v = np.sort(np.abs(vector))\n",
    "    n = v.shape[0]\n",
    "    k = np.arange(n) + 1\n",
    "    l1norm = np.sum(v)\n",
    "    summation = np.sum((v / l1norm) * ((n - k + 0.5) / n))\n",
    "    return 1 - 2 * summation\n",
    "\n",
    "def HeatMapSave(network,name,probe,samples=1,neuron=1):\n",
    "    x = int(samples/100)\n",
    "\n",
    "    if not os.path.exists(name):\n",
    "        os.makedirs(name)\n",
    "\n",
    "    plt.matshow(np.reshape(network.data[probe][:,neuron][samples-1],(28,28)))\n",
    "    plt.title(samples-1)\n",
    "    plt.savefig(name+\"/\"+str(neuron)+\":\"+str(samples-1)+\".png\")\n",
    "    plt.cla()\n",
    "\n",
    "def AllHeatMapSave(network,probe,folder,samples=1,neuron=1):\n",
    "\n",
    "    if not os.path.exists(folder):\n",
    "        os.makedirs(folder)\n",
    "    \n",
    "    os.makedirs(folder+\"/\"+str(neuron))\n",
    "    i = 0\n",
    "    step = samples / 100\n",
    "    while i < samples:\n",
    "        plt.matshow(np.reshape(network.data[probe][:,neuron][i],(28,28))) # , cmap=cm.jet\n",
    "        plt.title(i)\n",
    "        plt.savefig(folder+\"/\"+str(neuron)+\"/\"+str(neuron)+\":\"+str(i)+\".png\")\n",
    "        plt.cla()\n",
    "        i = int(i + step)\n"
   ]
  },
  {
   "cell_type": "code",
   "execution_count": 126,
   "metadata": {},
   "outputs": [
    {
     "data": {
      "application/vdom.v1+json": {
       "attributes": {},
       "tagName": "div"
      },
      "text/html": [
       "\n",
       "                <script>\n",
       "                    if (Jupyter.version.split(\".\")[0] < 5) {\n",
       "                        var pb = document.getElementById(\"04cd18ab-c958-4430-99ac-dcb3c88cfc87\");\n",
       "                        var text = document.createTextNode(\n",
       "                            \"HMTL progress bar requires Jupyter Notebook >= \" +\n",
       "                            \"5.0 or Jupyter Lab. Alternatively, you can use \" +\n",
       "                            \"TerminalProgressBar().\");\n",
       "                        pb.parentNode.insertBefore(text, pb);\n",
       "                    }\n",
       "                </script>\n",
       "                <div id=\"04cd18ab-c958-4430-99ac-dcb3c88cfc87\" style=\"\n",
       "                    width: 100%;\n",
       "                    border: 1px solid #cfcfcf;\n",
       "                    border-radius: 4px;\n",
       "                    text-align: center;\n",
       "                    position: relative;\">\n",
       "                  <div class=\"pb-text\" style=\"\n",
       "                      position: absolute;\n",
       "                      width: 100%;\">\n",
       "                    0%\n",
       "                  </div>\n",
       "                  <div class=\"pb-fill\" style=\"\n",
       "                      background-color: #bdd2e6;\n",
       "                      width: 0%;\">\n",
       "                    <style type=\"text/css\" scoped=\"scoped\">\n",
       "                        @keyframes pb-fill-anim {\n",
       "                            0% { background-position: 0 0; }\n",
       "                            100% { background-position: 100px 0; }\n",
       "                        }\n",
       "                    </style>\n",
       "                    &nbsp;\n",
       "                  </div>\n",
       "                </div>"
      ],
      "text/plain": [
       "HtmlProgressBar cannot be displayed. Please use the TerminalProgressBar. It can be enabled with `nengo.rc['progress']['progress_bar'] = 'nengo.utils.progress.TerminalProgressBar'`."
      ]
     },
     "metadata": {},
     "output_type": "display_data"
    },
    {
     "data": {
      "application/vdom.v1+json": {
       "attributes": {
        "id": "5b72c4f5-6780-45b3-90c7-7f969ec30380",
        "style": {
         "border": "1px solid #cfcfcf",
         "borderRadius": "4px",
         "boxSizing": "border-box",
         "position": "relative",
         "textAlign": "center",
         "width": "100%"
        }
       },
       "children": [
        {
         "attributes": {
          "class": "pb-text",
          "style": {
           "position": "absolute",
           "width": "100%"
          }
         },
         "children": [
          "Build finished in 0:00:01."
         ],
         "tagName": "div"
        },
        {
         "attributes": {
          "class": "pb-fill",
          "style": {
           "animation": "none",
           "backgroundColor": "#bdd2e6",
           "backgroundImage": "none",
           "backgroundSize": "100px 100%",
           "width": "100%"
          }
         },
         "children": [
          {
           "attributes": {
            "scoped": "scoped",
            "type": "text/css"
           },
           "children": [
            "\n                        @keyframes pb-fill-anim {\n                            0% { background-position: 0 0; }\n                            100% { background-position: 100px 0; }\n                        }}"
           ],
           "tagName": "style"
          },
          " "
         ],
         "tagName": "div"
        }
       ],
       "tagName": "div"
      },
      "text/html": [
       "<script>\n",
       "              (function () {\n",
       "                  var root = document.getElementById('04cd18ab-c958-4430-99ac-dcb3c88cfc87');\n",
       "                  var text = root.getElementsByClassName('pb-text')[0];\n",
       "                  var fill = root.getElementsByClassName('pb-fill')[0];\n",
       "\n",
       "                  text.innerHTML = 'Build finished in 0:00:01.';\n",
       "                  \n",
       "            fill.style.width = '100%';\n",
       "            fill.style.animation = 'pb-fill-anim 2s linear infinite';\n",
       "            fill.style.backgroundSize = '100px 100%';\n",
       "            fill.style.backgroundImage = 'repeating-linear-gradient(' +\n",
       "                '90deg, #bdd2e6, #edf2f8 40%, #bdd2e6 80%, #bdd2e6)';\n",
       "        \n",
       "                  \n",
       "                fill.style.animation = 'none';\n",
       "                fill.style.backgroundImage = 'none';\n",
       "            \n",
       "              })();\n",
       "        </script>"
      ]
     },
     "metadata": {},
     "output_type": "display_data"
    },
    {
     "data": {
      "application/vdom.v1+json": {
       "attributes": {},
       "tagName": "div"
      },
      "text/html": [
       "\n",
       "                <script>\n",
       "                    if (Jupyter.version.split(\".\")[0] < 5) {\n",
       "                        var pb = document.getElementById(\"ba7f7c47-9444-4fdf-9450-12e23c770c83\");\n",
       "                        var text = document.createTextNode(\n",
       "                            \"HMTL progress bar requires Jupyter Notebook >= \" +\n",
       "                            \"5.0 or Jupyter Lab. Alternatively, you can use \" +\n",
       "                            \"TerminalProgressBar().\");\n",
       "                        pb.parentNode.insertBefore(text, pb);\n",
       "                    }\n",
       "                </script>\n",
       "                <div id=\"ba7f7c47-9444-4fdf-9450-12e23c770c83\" style=\"\n",
       "                    width: 100%;\n",
       "                    border: 1px solid #cfcfcf;\n",
       "                    border-radius: 4px;\n",
       "                    text-align: center;\n",
       "                    position: relative;\">\n",
       "                  <div class=\"pb-text\" style=\"\n",
       "                      position: absolute;\n",
       "                      width: 100%;\">\n",
       "                    0%\n",
       "                  </div>\n",
       "                  <div class=\"pb-fill\" style=\"\n",
       "                      background-color: #bdd2e6;\n",
       "                      width: 0%;\">\n",
       "                    <style type=\"text/css\" scoped=\"scoped\">\n",
       "                        @keyframes pb-fill-anim {\n",
       "                            0% { background-position: 0 0; }\n",
       "                            100% { background-position: 100px 0; }\n",
       "                        }\n",
       "                    </style>\n",
       "                    &nbsp;\n",
       "                  </div>\n",
       "                </div>"
      ],
      "text/plain": [
       "HtmlProgressBar cannot be displayed. Please use the TerminalProgressBar. It can be enabled with `nengo.rc['progress']['progress_bar'] = 'nengo.utils.progress.TerminalProgressBar'`."
      ]
     },
     "metadata": {},
     "output_type": "display_data"
    },
    {
     "data": {
      "application/vdom.v1+json": {
       "attributes": {
        "id": "23f63232-0c7c-4c29-ba6d-89323b55babc",
        "style": {
         "border": "1px solid #cfcfcf",
         "borderRadius": "4px",
         "boxSizing": "border-box",
         "position": "relative",
         "textAlign": "center",
         "width": "100%"
        }
       },
       "children": [
        {
         "attributes": {
          "class": "pb-text",
          "style": {
           "position": "absolute",
           "width": "100%"
          }
         },
         "children": [
          "Simulation finished in 0:00:26."
         ],
         "tagName": "div"
        },
        {
         "attributes": {
          "class": "pb-fill",
          "style": {
           "animation": "none",
           "backgroundColor": "#bdd2e6",
           "backgroundImage": "none",
           "transition": "width 0.1s linear",
           "width": "100%"
          }
         },
         "children": [
          {
           "attributes": {
            "scoped": "scoped",
            "type": "text/css"
           },
           "children": [
            "\n                        @keyframes pb-fill-anim {\n                            0% { background-position: 0 0; }\n                            100% { background-position: 100px 0; }\n                        }}"
           ],
           "tagName": "style"
          },
          " "
         ],
         "tagName": "div"
        }
       ],
       "tagName": "div"
      },
      "text/html": [
       "<script>\n",
       "              (function () {\n",
       "                  var root = document.getElementById('ba7f7c47-9444-4fdf-9450-12e23c770c83');\n",
       "                  var text = root.getElementsByClassName('pb-text')[0];\n",
       "                  var fill = root.getElementsByClassName('pb-fill')[0];\n",
       "\n",
       "                  text.innerHTML = 'Simulation finished in 0:00:26.';\n",
       "                  \n",
       "            if (100.0 > 0.) {\n",
       "                fill.style.transition = 'width 0.1s linear';\n",
       "            } else {\n",
       "                fill.style.transition = 'none';\n",
       "            }\n",
       "\n",
       "            fill.style.width = '100.0%';\n",
       "            fill.style.animation = 'none';\n",
       "            fill.style.backgroundImage = 'none'\n",
       "        \n",
       "                  \n",
       "                fill.style.animation = 'none';\n",
       "                fill.style.backgroundImage = 'none';\n",
       "            \n",
       "              })();\n",
       "        </script>"
      ]
     },
     "metadata": {},
     "output_type": "display_data"
    },
    {
     "data": {
      "image/png": "[encoded data removed]",
      "text/plain": [
       "<Figure size 288x288 with 1 Axes>"
      ]
     },
     "metadata": {
      "needs_background": "light"
     },
     "output_type": "display_data"
    },
    {
     "data": {
      "image/png": "[encoded data removed]",
      "text/plain": [
       "<Figure size 288x288 with 1 Axes>"
      ]
     },
     "metadata": {
      "needs_background": "light"
     },
     "output_type": "display_data"
    },
    {
     "data": {
      "image/png": "[encoded data removed]",
      "text/plain": [
       "<Figure size 288x288 with 1 Axes>"
      ]
     },
     "metadata": {
      "needs_background": "light"
     },
     "output_type": "display_data"
    },
    {
     "data": {
      "image/png": "[encoded data removed]",
      "text/plain": [
       "<Figure size 288x288 with 1 Axes>"
      ]
     },
     "metadata": {
      "needs_background": "light"
     },
     "output_type": "display_data"
    },
    {
     "data": {
      "image/png": "[encoded data removed]",
      "text/plain": [
       "<Figure size 288x288 with 1 Axes>"
      ]
     },
     "metadata": {
      "needs_background": "light"
     },
     "output_type": "display_data"
    },
    {
     "data": {
      "image/png": "[encoded data removed]",
      "text/plain": [
       "<Figure size 288x288 with 1 Axes>"
      ]
     },
     "metadata": {
      "needs_background": "light"
     },
     "output_type": "display_data"
    },
    {
     "data": {
      "image/png": "[encoded data removed]",
      "text/plain": [
       "<Figure size 288x288 with 1 Axes>"
      ]
     },
     "metadata": {
      "needs_background": "light"
     },
     "output_type": "display_data"
    },
    {
     "data": {
      "image/png": "[encoded data removed]",
      "text/plain": [
       "<Figure size 288x288 with 1 Axes>"
      ]
     },
     "metadata": {
      "needs_background": "light"
     },
     "output_type": "display_data"
    },
    {
     "data": {
      "image/png": "[encoded data removed]",
      "text/plain": [
       "<Figure size 288x288 with 1 Axes>"
      ]
     },
     "metadata": {
      "needs_background": "light"
     },
     "output_type": "display_data"
    },
    {
     "data": {
      "image/png": "[encoded data removed]",
      "text/plain": [
       "<Figure size 288x288 with 1 Axes>"
      ]
     },
     "metadata": {
      "needs_background": "light"
     },
     "output_type": "display_data"
    }
   ],
   "source": [
    "model = nengo.Network(\"My network\")\n",
    "#############################\n",
    "# Model construction\n",
    "#############################\n",
    "\n",
    "presentation_time = 0.20 #0.35\n",
    "#input layer\n",
    "\n",
    "n_in = 784\n",
    "n_neurons = 10\n",
    "\n",
    "# log = DataLog()\n",
    "with model:\n",
    "\n",
    "    # input layer \n",
    "    picture = nengo.Node(nengo.processes.PresentInput(image_train_filtered, presentation_time))\n",
    "    true_label = nengo.Node(nengo.processes.PresentInput(label_train_filtered, presentation_time))\n",
    "    \n",
    "    input_layer = nengo.Ensemble(\n",
    "        784,\n",
    "        1,\n",
    "        label=\"input\",\n",
    "        max_rates=nengo.dists.Uniform(22, 22),\n",
    "        intercepts=nengo.dists.Choice([0])\n",
    "        )\n",
    "    input_conn = nengo.Connection(picture,input_layer.neurons,synapse=None)\n",
    "\n",
    "    # weights randomly initiated \n",
    "    layer1_weights = random.random((n_neurons, 784))\n",
    "   \n",
    "    #Noise \n",
    "    process = nengo.processes.WhiteNoise(dist=nengo.dists.Gaussian(0, 0.5), seed=1)\n",
    "\n",
    "    # define first layer\n",
    "    layer1 = nengo.Ensemble(\n",
    "         n_neurons,\n",
    "         1,\n",
    "         neuron_type=nengo.neurons.AdaptiveLIF(),\n",
    "         label=\"layer1\",\n",
    "        noise=process,\n",
    "         max_rates=nengo.dists.Uniform(20,80),\n",
    "         intercepts=nengo.dists.Choice([0])\n",
    "         )\n",
    "\n",
    "   \n",
    "\n",
    "\n",
    "    # define connection between the two layers\n",
    "    conn1 = nengo.Connection(\n",
    "        input_layer.neurons,\n",
    "        layer1.neurons,\n",
    "        transform=layer1_weights,\n",
    "        synapse=None,\n",
    "#         learning_rule_type = [nengo.BCM(learning_rate=5e-10),nengo.Oja(learning_rate=2e-9)]\n",
    "        learning_rule_type=STDP()\n",
    "        )\n",
    "\n",
    "#     create inhibitory layer \n",
    "    layer1_inh = nengo.Ensemble(\n",
    "         n_neurons,\n",
    "         1,\n",
    "         neuron_type=nengo.neurons.LIF(),\n",
    "         label=\"layer1\",\n",
    "         max_rates=nengo.dists.Uniform(20,50),\n",
    "         intercepts=nengo.dists.Choice([0])\n",
    "         )\n",
    "    \n",
    "    exc_inh_wegihts = np.eye(n_neurons)\n",
    "    inh_exc_wegihts = (np.full((n_neurons, n_neurons), 1) - np.eye(n_neurons)) * -50\n",
    "    \n",
    "    conn_exc_inh = nengo.Connection(layer1.neurons, layer1_inh.neurons, transform=exc_inh_wegihts)\n",
    "    conn_inh_exc = nengo.Connection(layer1_inh.neurons, layer1.neurons, transform=inh_exc_wegihts)\n",
    "    \n",
    "    \n",
    "#     inhib_wegihts = (np.full((n_neurons, n_neurons), 1) - np.eye(n_neurons)) * -100\n",
    "\n",
    "#     inhib = nengo.Connection(layer1.neurons, layer1.neurons, transform=inhib_wegihts)\n",
    "        \n",
    "    #############################\n",
    "\n",
    "    #############################\n",
    "    # setup the probes\n",
    "    #############################\n",
    "\n",
    "    connection_layer1_probe = nengo.Probe(conn1,\"weights\",label=\"layer1_synapses\") \n",
    "    \n",
    "    p_true_label = nengo.Probe(true_label)\n",
    "    p_layer_1 = nengo.Probe(layer1.neurons)\n",
    "\n",
    "    nengo.Node(log)\n",
    "    \n",
    "with nengo.Simulator(model) as sim:\n",
    "\n",
    "#     log.set(sim,\"Log.txt\",False,False)\n",
    "    \n",
    "    sim.run((presentation_time) * label_train_filtered.shape[0])\n",
    "\n",
    "#save the model\n",
    "pickle.dump(sim.data[connection_layer1_probe][-1], open( \"mnist_params_STDP\", \"wb\" ))\n",
    "# log.closeLog()\n",
    "\n",
    "now = str(datetime.now().time())\n",
    "folder = \"My Sim \"+now\n",
    "\n",
    "for i in range(0,(n_neurons)):\n",
    "    HeatMapSave(sim,folder,connection_layer1_probe,sim.data[connection_layer1_probe].shape[0],i)\n",
    "    \n",
    "#     AllHeatMapSave(sim,connection_layer1_probe,folder,samples=10,neuron=1)"
   ]
  },
  {
   "cell_type": "code",
   "execution_count": 127,
   "metadata": {},
   "outputs": [
    {
     "data": {
      "text/plain": [
       "Text(0, 0.5, 'Neuron index')"
      ]
     },
     "execution_count": 127,
     "metadata": {},
     "output_type": "execute_result"
    },
    {
     "data": {
      "image/png": "[encoded data removed]",
      "text/plain": [
       "<Figure size 432x288 with 1 Axes>"
      ]
     },
     "metadata": {
      "needs_background": "light"
     },
     "output_type": "display_data"
    }
   ],
   "source": [
    "plt.title('Output neurons')\n",
    "rasterplot(sim.trange(), sim.data[p_layer_1])\n",
    "plt.xlabel(\"Time [s]\")\n",
    "plt.ylabel(\"Neuron index\")"
   ]
  },
  {
   "cell_type": "code",
   "execution_count": 128,
   "metadata": {},
   "outputs": [
    {
     "data": {
      "text/plain": [
       "[<matplotlib.lines.Line2D at 0x1a34efa60>]"
      ]
     },
     "execution_count": 128,
     "metadata": {},
     "output_type": "execute_result"
    },
    {
     "data": {
      "image/png": "[encoded data removed]",
      "text/plain": [
       "<Figure size 432x288 with 1 Axes>"
      ]
     },
     "metadata": {
      "needs_background": "light"
     },
     "output_type": "display_data"
    }
   ],
   "source": [
    "plt.plot(sim.trange(), sim.data[p_true_label]/1000, c='k', label='spikes')"
   ]
  },
  {
   "cell_type": "code",
   "execution_count": null,
   "metadata": {},
   "outputs": [],
   "source": []
  }
 ],
 "metadata": {
  "kernelspec": {
   "display_name": "Python 3",
   "language": "python",
   "name": "python3"
  },
  "language_info": {
   "codemirror_mode": {
    "name": "ipython",
    "version": 3
   },
   "file_extension": ".py",
   "mimetype": "text/x-python",
   "name": "python",
   "nbconvert_exporter": "python",
   "pygments_lexer": "ipython3",
   "version": "3.8.3"
  }
 },
 "nbformat": 4,
 "nbformat_minor": 4
}
