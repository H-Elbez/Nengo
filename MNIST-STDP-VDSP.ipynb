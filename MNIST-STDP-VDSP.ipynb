{
 "cells": [
  {
   "cell_type": "code",
   "execution_count": 1,
   "metadata": {},
   "outputs": [],
   "source": [
    "import nengo\n",
    "import numpy as np\n",
    "from numpy import random\n",
    "import matplotlib.pyplot as plt\n",
    "import matplotlib.cm as cm\n",
    "import tensorflow as tf\n",
    "import os\n",
    "from nengo.dists import Choice\n",
    "from datetime import datetime\n",
    "from nengo_extras.data import load_mnist\n",
    "import pickle\n",
    "from nengo.utils.matplotlib import rasterplot\n",
    "\n",
    "plt.rcParams.update({'figure.max_open_warning': 0})\n",
    "\n",
    "from InputData import PresentInputWithPause\n",
    "# import nengo_ocl"
   ]
  },
  {
   "cell_type": "code",
   "execution_count": 18,
   "metadata": {},
   "outputs": [],
   "source": [
    "#############################\n",
    "# load the data\n",
    "#############################\n",
    "\n",
    "img_rows, img_cols = 28, 28\n",
    "input_nbr = 1000\n",
    "\n",
    "(image_train, label_train), (image_test, label_test) = (tf.keras.datasets.mnist.load_data())\n",
    "\n",
    "#select the 0s and 1s as the two classes from MNIST data\n",
    "image_train_filtered = []\n",
    "label_train_filtered = []\n",
    "\n",
    "# x = 6\n",
    "\n",
    "# for i in range(0,input_nbr):\n",
    "#   if label_train[i] == x:\n",
    "#         image_train_filtered.append(image_train[i])\n",
    "#         label_train_filtered.append(label_train[i])\n",
    "#         if x == 6:\n",
    "#             x = 9\n",
    "#         else:\n",
    "#             x = 6\n",
    "\n",
    "for i in range(0,input_nbr):\n",
    "    image_train_filtered.append(image_train[i])\n",
    "    label_train_filtered.append(label_train[i])\n",
    "\n",
    "image_train_filtered = np.array(image_train_filtered)\n",
    "label_train_filtered = np.array(label_train_filtered)"
   ]
  },
  {
   "cell_type": "code",
   "execution_count": 19,
   "metadata": {},
   "outputs": [],
   "source": [
    "#############################\n",
    "# Helpfull methodes\n",
    "#############################\n",
    "\n",
    "def sparsity_measure(vector):  # Gini index\n",
    "    # Max sparsity = 1 (single 1 in the vector)\n",
    "    v = np.sort(np.abs(vector))\n",
    "    n = v.shape[0]\n",
    "    k = np.arange(n) + 1\n",
    "    l1norm = np.sum(v)\n",
    "    summation = np.sum((v / l1norm) * ((n - k + 0.5) / n))\n",
    "    return 1 - 2 * summation\n",
    "\n",
    "def HeatMapSave(network,name,probe,samples=1,neuron=1):\n",
    "    x = int(samples/100)\n",
    "\n",
    "    if not os.path.exists(name):\n",
    "        os.makedirs(name)\n",
    "\n",
    "    plt.matshow(np.reshape(network.data[probe][:,neuron][samples-1],(28,28)))\n",
    "    plt.title(samples-1)\n",
    "    plt.savefig(name+\"/\"+str(neuron)+\":\"+str(samples-1)+\".png\")\n",
    "    plt.cla()\n",
    "\n",
    "def AllHeatMapSave(network,probe,folder,samples=1,neuron=1):\n",
    "\n",
    "    if not os.path.exists(folder):\n",
    "        os.makedirs(folder)\n",
    "    \n",
    "    os.makedirs(folder+\"/\"+str(neuron))\n",
    "    i = 0\n",
    "    step = samples / 100\n",
    "    while i < samples:\n",
    "        plt.matshow(np.reshape(network.data[probe][:,neuron][i],(28,28))) # , cmap=cm.jet\n",
    "        plt.title(i)\n",
    "        plt.savefig(folder+\"/\"+str(neuron)+\"/\"+str(neuron)+\":\"+str(i)+\".png\")\n",
    "        plt.cla()\n",
    "        i = int(i + step)\n"
   ]
  },
  {
   "cell_type": "code",
   "execution_count": 20,
   "metadata": {},
   "outputs": [],
   "source": [
    "def fun(X,\n",
    "       a1=0,a2=1,a3=0,\n",
    "       b1=1,b2=1,b3=1,b4=1,b5=1,b6=1,b7=1,\n",
    "       c1=0,c2=1,c3=0,\n",
    "       d1=1,d2=1,d3=1,d4=1,d5=1,d6=1,d7=1,\n",
    "       e1=0, e2=0, e3=0, e4=0,e5=0,e6=0,\n",
    "       alpha1=1,alpha2=0    \n",
    "       ): \n",
    "            w, vmem = X\n",
    "            w=np.array(w)\n",
    "            vmem=np.array(vmem)\n",
    "            vthp=0.25\n",
    "            vthn=0.25\n",
    "            vprog=1\n",
    "            w_pos = e1*w + e3\n",
    "            w_neg = e2*(1-w) + e4\n",
    "            v_ov_p =  vmem - (vprog+vthp) + e5\n",
    "            v_ov_n = (vprog-vthn) - vmem  + e6\n",
    "            cond_1 = vmem<(vprog-vthn)\n",
    "            cond_2 = vmem>(vprog+vthp)\n",
    "            f1 = a1 + a2*(w_pos**1) + a3*(w_pos**2)\n",
    "            g1 = b1 + b2*np.sin(b3*v_ov_n + b4) + b5*np.cos(b6*v_ov_n + b7)\n",
    "            f2 = c1 + c2*(w_neg**1) + c3*(w_neg**2)\n",
    "            g2 = d1 + d2*np.sin(d3*v_ov_p + d4) + d5*np.cos(d6*v_ov_p + d7)\n",
    "            dW = (-1*cond_1*(alpha1*f1*g1))  + (cond_2*(alpha2*cond_2*f2*g2))    \n",
    "            return dW\n",
    "        \n",
    "popt = np.array((-0.63268079,  1.92345965,  0.47470475,  0.08882345,  2.65286122,\n",
    "       -3.50470788, -1.04094917,  2.46161541,  3.63797126, -0.54362876,\n",
    "       -0.71246513,  3.70078799,  0.13785252, -2.05963654,  3.14470144,\n",
    "        0.66939748,  0.37730831,  1.06771835,  1.13675002,  1.12284471,\n",
    "        1.76493531,  3.54101003,  0.21334419,  0.16327218,  1.17173351,\n",
    "       -0.3972994 , -1.62356781,  3.47649959))\n",
    "\n",
    "class CustomRule(nengo.Process):\n",
    "   \n",
    "    def __init__(self, vthp=0.25, vthn=0.25, vprog=1,winit_min=0, winit_max=1):\n",
    "       \n",
    "        self.vthp = vthp\n",
    "        self.vthn = vthn\n",
    "        self.vprog = vprog  \n",
    "        self.signal = None\n",
    "        self.history = []\n",
    "        self.update_history = []\n",
    "        \n",
    "        self.vmem_prev = 0\n",
    "        \n",
    "        self.winit_min = winit_min\n",
    "        self.winit_max = winit_max\n",
    "        \n",
    "        self.tstep=0 #Just recording the tstep to sample weights. (To save memory)\n",
    "        \n",
    "        super().__init__()\n",
    "        \n",
    "    def make_step(self, shape_in, shape_out, dt, rng, state=None):  \n",
    "       \n",
    "        self.w = np.random.uniform(self.winit_min, self.winit_max, (shape_out[0], shape_in[0]))\n",
    "        dw = np.zeros((shape_out[0], shape_in[0]))\n",
    "\n",
    "        def step(t, x):\n",
    "\n",
    "            assert self.signal is not None\n",
    "            \n",
    "            vmem = self.signal \n",
    "            vmem_org = vmem\n",
    "            \n",
    "            #For present time step vmem\n",
    "            vmem = np.reshape(vmem, (shape_out[0],1))\n",
    "            \n",
    "            #For vmem from last time step\n",
    "#             vmem = np.reshape(self.vmem_prev, (shape_out[0],1))\n",
    "            \n",
    "            x_matrix = np.reshape(x, (1, shape_in[0]))\n",
    "          \n",
    "            vmem = np.hstack([vmem]*shape_in[0])\n",
    "            x_matrix = np.vstack([x_matrix]*shape_out[0])\n",
    "            dw = x_matrix*dt*fun((self.w,vmem*2),*popt)   \n",
    "            self.w += dw\n",
    "            \n",
    "            if (self.tstep%200 ==0):\n",
    "                self.history.append(self.w.copy())\n",
    "                self.update_history.append(dw.copy())\n",
    "            \n",
    "            self.tstep +=1\n",
    "            self.vmem_prev = vmem_org.copy()\n",
    "            return np.dot(self.w, x)\n",
    "        \n",
    "        \n",
    "        return step   \n",
    "    \n",
    "    def set_signal(self, signal):\n",
    "        self.signal = signal"
   ]
  },
  {
   "cell_type": "code",
   "execution_count": null,
   "metadata": {},
   "outputs": [
    {
     "data": {
      "application/vdom.v1+json": {
       "attributes": {},
       "tagName": "div"
      },
      "text/html": [
       "\n",
       "                <script>\n",
       "                    if (Jupyter.version.split(\".\")[0] < 5) {\n",
       "                        var pb = document.getElementById(\"ec7c8bf5-8e11-4e09-9c4f-af0368cbcfee\");\n",
       "                        var text = document.createTextNode(\n",
       "                            \"HMTL progress bar requires Jupyter Notebook >= \" +\n",
       "                            \"5.0 or Jupyter Lab. Alternatively, you can use \" +\n",
       "                            \"TerminalProgressBar().\");\n",
       "                        pb.parentNode.insertBefore(text, pb);\n",
       "                    }\n",
       "                </script>\n",
       "                <div id=\"ec7c8bf5-8e11-4e09-9c4f-af0368cbcfee\" style=\"\n",
       "                    width: 100%;\n",
       "                    border: 1px solid #cfcfcf;\n",
       "                    border-radius: 4px;\n",
       "                    text-align: center;\n",
       "                    position: relative;\">\n",
       "                  <div class=\"pb-text\" style=\"\n",
       "                      position: absolute;\n",
       "                      width: 100%;\">\n",
       "                    0%\n",
       "                  </div>\n",
       "                  <div class=\"pb-fill\" style=\"\n",
       "                      background-color: #bdd2e6;\n",
       "                      width: 0%;\">\n",
       "                    <style type=\"text/css\" scoped=\"scoped\">\n",
       "                        @keyframes pb-fill-anim {\n",
       "                            0% { background-position: 0 0; }\n",
       "                            100% { background-position: 100px 0; }\n",
       "                        }\n",
       "                    </style>\n",
       "                    &nbsp;\n",
       "                  </div>\n",
       "                </div>"
      ],
      "text/plain": [
       "HtmlProgressBar cannot be displayed. Please use the TerminalProgressBar. It can be enabled with `nengo.rc['progress']['progress_bar'] = 'nengo.utils.progress.TerminalProgressBar'`."
      ]
     },
     "metadata": {},
     "output_type": "display_data"
    },
    {
     "data": {
      "application/vdom.v1+json": {
       "attributes": {
        "id": "22c9dd2a-9d80-4b4f-8e85-cfd9fb709f21",
        "style": {
         "border": "1px solid #cfcfcf",
         "borderRadius": "4px",
         "boxSizing": "border-box",
         "position": "relative",
         "textAlign": "center",
         "width": "100%"
        }
       },
       "children": [
        {
         "attributes": {
          "class": "pb-text",
          "style": {
           "position": "absolute",
           "width": "100%"
          }
         },
         "children": [
          "Build finished in 0:00:01."
         ],
         "tagName": "div"
        },
        {
         "attributes": {
          "class": "pb-fill",
          "style": {
           "animation": "none",
           "backgroundColor": "#bdd2e6",
           "backgroundImage": "none",
           "backgroundSize": "100px 100%",
           "width": "100%"
          }
         },
         "children": [
          {
           "attributes": {
            "scoped": "scoped",
            "type": "text/css"
           },
           "children": [
            "\n                        @keyframes pb-fill-anim {\n                            0% { background-position: 0 0; }\n                            100% { background-position: 100px 0; }\n                        }}"
           ],
           "tagName": "style"
          },
          " "
         ],
         "tagName": "div"
        }
       ],
       "tagName": "div"
      },
      "text/html": [
       "<script>\n",
       "              (function () {\n",
       "                  var root = document.getElementById('ec7c8bf5-8e11-4e09-9c4f-af0368cbcfee');\n",
       "                  var text = root.getElementsByClassName('pb-text')[0];\n",
       "                  var fill = root.getElementsByClassName('pb-fill')[0];\n",
       "\n",
       "                  text.innerHTML = 'Build finished in 0:00:01.';\n",
       "                  \n",
       "            fill.style.width = '100%';\n",
       "            fill.style.animation = 'pb-fill-anim 2s linear infinite';\n",
       "            fill.style.backgroundSize = '100px 100%';\n",
       "            fill.style.backgroundImage = 'repeating-linear-gradient(' +\n",
       "                '90deg, #bdd2e6, #edf2f8 40%, #bdd2e6 80%, #bdd2e6)';\n",
       "        \n",
       "                  \n",
       "                fill.style.animation = 'none';\n",
       "                fill.style.backgroundImage = 'none';\n",
       "            \n",
       "              })();\n",
       "        </script>"
      ]
     },
     "metadata": {},
     "output_type": "display_data"
    },
    {
     "data": {
      "application/vdom.v1+json": {
       "attributes": {},
       "tagName": "div"
      },
      "text/html": [
       "\n",
       "                <script>\n",
       "                    if (Jupyter.version.split(\".\")[0] < 5) {\n",
       "                        var pb = document.getElementById(\"30891956-4bdd-4948-aff0-4ec245be57d5\");\n",
       "                        var text = document.createTextNode(\n",
       "                            \"HMTL progress bar requires Jupyter Notebook >= \" +\n",
       "                            \"5.0 or Jupyter Lab. Alternatively, you can use \" +\n",
       "                            \"TerminalProgressBar().\");\n",
       "                        pb.parentNode.insertBefore(text, pb);\n",
       "                    }\n",
       "                </script>\n",
       "                <div id=\"30891956-4bdd-4948-aff0-4ec245be57d5\" style=\"\n",
       "                    width: 100%;\n",
       "                    border: 1px solid #cfcfcf;\n",
       "                    border-radius: 4px;\n",
       "                    text-align: center;\n",
       "                    position: relative;\">\n",
       "                  <div class=\"pb-text\" style=\"\n",
       "                      position: absolute;\n",
       "                      width: 100%;\">\n",
       "                    0%\n",
       "                  </div>\n",
       "                  <div class=\"pb-fill\" style=\"\n",
       "                      background-color: #bdd2e6;\n",
       "                      width: 0%;\">\n",
       "                    <style type=\"text/css\" scoped=\"scoped\">\n",
       "                        @keyframes pb-fill-anim {\n",
       "                            0% { background-position: 0 0; }\n",
       "                            100% { background-position: 100px 0; }\n",
       "                        }\n",
       "                    </style>\n",
       "                    &nbsp;\n",
       "                  </div>\n",
       "                </div>"
      ],
      "text/plain": [
       "HtmlProgressBar cannot be displayed. Please use the TerminalProgressBar. It can be enabled with `nengo.rc['progress']['progress_bar'] = 'nengo.utils.progress.TerminalProgressBar'`."
      ]
     },
     "metadata": {},
     "output_type": "display_data"
    },
    {
     "data": {
      "application/vdom.v1+json": {
       "attributes": {
        "id": "260934e9-6a4c-47a7-8c91-4f025a5ed098",
        "style": {
         "border": "1px solid #cfcfcf",
         "borderRadius": "4px",
         "boxSizing": "border-box",
         "position": "relative",
         "textAlign": "center",
         "width": "100%"
        }
       },
       "children": [
        {
         "attributes": {
          "class": "pb-text",
          "style": {
           "position": "absolute",
           "width": "100%"
          }
         },
         "children": [
          "Simulating… 7%, ETA: 0:15:42"
         ],
         "tagName": "div"
        },
        {
         "attributes": {
          "class": "pb-fill",
          "style": {
           "animation": "none",
           "backgroundColor": "#bdd2e6",
           "backgroundImage": "none",
           "transition": "width 0.1s linear",
           "width": "7%"
          }
         },
         "children": [
          {
           "attributes": {
            "scoped": "scoped",
            "type": "text/css"
           },
           "children": [
            "\n                        @keyframes pb-fill-anim {\n                            0% { background-position: 0 0; }\n                            100% { background-position: 100px 0; }\n                        }}"
           ],
           "tagName": "style"
          },
          " "
         ],
         "tagName": "div"
        }
       ],
       "tagName": "div"
      },
      "text/html": [
       "<script>\n",
       "              (function () {\n",
       "                  var root = document.getElementById('30891956-4bdd-4948-aff0-4ec245be57d5');\n",
       "                  var text = root.getElementsByClassName('pb-text')[0];\n",
       "                  var fill = root.getElementsByClassName('pb-fill')[0];\n",
       "\n",
       "                  text.innerHTML = 'Simulating&hellip; 7%, ETA: 0:15:42';\n",
       "                  \n",
       "            if (7.327142857142857 > 0.) {\n",
       "                fill.style.transition = 'width 0.1s linear';\n",
       "            } else {\n",
       "                fill.style.transition = 'none';\n",
       "            }\n",
       "\n",
       "            fill.style.width = '7.327142857142857%';\n",
       "            fill.style.animation = 'none';\n",
       "            fill.style.backgroundImage = 'none'\n",
       "        \n",
       "                  \n",
       "              })();\n",
       "        </script>"
      ]
     },
     "metadata": {},
     "output_type": "display_data"
    }
   ],
   "source": [
    "model = nengo.Network(\"My network\")\n",
    "#############################\n",
    "# Model construction\n",
    "#############################\n",
    "\n",
    "presentation_time = 0.35 #0.35\n",
    "pause_time = 0.20\n",
    "#input layer\n",
    "\n",
    "n_in = 784\n",
    "n_neurons = 10\n",
    "\n",
    "with model:\n",
    "\n",
    "    # input layer \n",
    "    picture = nengo.Node(nengo.processes.PresentInput(image_train_filtered, presentation_time))\n",
    "    true_label = nengo.Node(nengo.processes.PresentInput(label_train_filtered, presentation_time))\n",
    "    \n",
    "#     picture = nengo.Node(PresentInputWithPause(image_train_filtered, presentation_time, pause_time))\n",
    "#     true_label = nengo.Node(PresentInputWithPause(label_train_filtered, presentation_time, pause_time))\n",
    "    \n",
    "    \n",
    "    \n",
    "    input_layer = nengo.Ensemble(\n",
    "        784,\n",
    "        1,\n",
    "        label=\"input\",\n",
    "        max_rates=nengo.dists.Uniform(22, 22),\n",
    "        intercepts=nengo.dists.Choice([0]),\n",
    "        neuron_type=nengo.neurons.SpikingRectifiedLinear(amplitude=10/784)\n",
    "        )\n",
    "    input_conn = nengo.Connection(picture,input_layer.neurons,synapse=None)\n",
    "\n",
    "    # weights randomly initiated \n",
    "   \n",
    "\n",
    "    # define first layer\n",
    "    layer1 = nengo.Ensemble(\n",
    "         n_neurons,\n",
    "         1,\n",
    "         neuron_type=nengo.neurons.AdaptiveLIF(tau_rc=0.1, min_voltage=0),\n",
    "         noise=nengo.processes.WhiteNoise(dist=nengo.dists.Gaussian(0, 20), seed=1),\n",
    "         label=\"layer1\",\n",
    "         encoders=nengo.dists.Uniform(1,1),\n",
    "         gain = nengo.dists.Uniform(2,2),\n",
    "         bias = nengo.dists.Uniform(0,0)\n",
    "#          max_rates=nengo.dists.Uniform(22,22),\n",
    "#          intercepts=nengo.dists.Uniform(0,0)\n",
    "         )\n",
    "\n",
    "   \n",
    "    w = nengo.Node(CustomRule(winit_min=0, winit_max=0), size_in=784, size_out=n_neurons)\n",
    "    nengo.Connection(input_layer.neurons, w, synapse=None)\n",
    "    nengo.Connection(w, layer1.neurons, synapse=None)\n",
    "    \n",
    "    weights = w.output.history\n",
    "    \n",
    "    inhib_wegihts = (np.full((n_neurons, n_neurons), 1) - np.eye(n_neurons)) * 2\n",
    "    \n",
    "    inhib = nengo.Connection(\n",
    "        layer1.neurons,\n",
    "        layer1.neurons,\n",
    "        synapse=0.003,\n",
    "        transform=-inhib_wegihts,\n",
    "    ) \n",
    "        \n",
    "    #############################\n",
    "\n",
    "    #############################\n",
    "    # setup the probes\n",
    "    #############################\n",
    "\n",
    "#     connection_layer1_probe = nengo.Probe(conn1,\"weights\",label=\"layer1_synapses\") \n",
    "    \n",
    "    p_true_label = nengo.Probe(true_label, sample_every=1/1000)\n",
    "    p_layer_1 = nengo.Probe(layer1.neurons, sample_every=1/1000)\n",
    "#     weights = nengo.Probe(w.output.history)\n",
    "\n",
    "# with nengo_ocl.Simulator(model) as sim :   \n",
    "with nengo.Simulator(model) as sim:\n",
    "\n",
    "    w.output.set_signal(sim.signals[sim.model.sig[layer1.neurons][\"voltage\"]])\n",
    "    sim.run((presentation_time) * label_train_filtered.shape[0])\n",
    "\n",
    "#save the model\n",
    "# pickle.dump(sim.data[connection_layer1_probe][-1], open( \"mnist_params_STDP\", \"wb\" ))\n",
    "\n",
    "# now = str(datetime.now().time())\n",
    "# folder = \"My Sim \"+now\n",
    "\n",
    "sim.close()"
   ]
  },
  {
   "cell_type": "code",
   "execution_count": null,
   "metadata": {},
   "outputs": [],
   "source": [
    "now = str(datetime.now().time())\n",
    "folder = os.getcwd()+\"/My_Sim\"+now\n",
    "os.mkdir(folder)\n",
    "for tstep in np.arange(0, len(weights), 10):\n",
    "    tstep = int(tstep)\n",
    "    fig, axes = plt.subplots(int(n_neurons), 1, figsize=(5,50))\n",
    "\n",
    "    for i in range(0,(n_neurons)):\n",
    "        axes[i].matshow(np.reshape(weights[tstep][i],(28,28)))\n",
    "\n",
    "    plt.tight_layout()    \n",
    "    fig.savefig(folder+'/mnist'+str(tstep)+'.png')\n",
    "    plt.close()\n"
   ]
  },
  {
   "cell_type": "code",
   "execution_count": null,
   "metadata": {},
   "outputs": [],
   "source": [
    "len(weights)"
   ]
  },
  {
   "cell_type": "code",
   "execution_count": null,
   "metadata": {},
   "outputs": [],
   "source": [
    "plt.figure(figsize=(16,8))\n",
    "\n",
    "plt.subplot(2,1,1)\n",
    "plt.title('Output neurons')\n",
    "rasterplot(sim.trange(), sim.data[p_layer_1])\n",
    "plt.xlabel(\"Time [s]\")\n",
    "plt.ylabel(\"Neuron index\")\n",
    "\n",
    "plt.subplot(2,1,2)\n",
    "plt.plot(sim.trange(), sim.data[p_true_label], c='k', label='spikes')\n",
    "plt.title('True Class')\n",
    "plt.xlabel(\"Time [s]\")\n",
    "plt.tight_layout()\n",
    "\n",
    "plt.savefig(folder+'\\outmnist'+str(tstep)+'.png')"
   ]
  },
  {
   "cell_type": "markdown",
   "metadata": {},
   "source": [
    "## Assign class to each neuron"
   ]
  },
  {
   "cell_type": "code",
   "execution_count": null,
   "metadata": {},
   "outputs": [],
   "source": [
    "t_data = sim.trange()\n",
    "labels = sim.data[p_true_label][:,0]\n",
    "output_spikes = sim.data[p_layer_1]\n",
    "neuron_class = np.zeros((n_neurons, 1))\n",
    "\n",
    "for j in range(n_neurons):\n",
    "    spike_times_neuron_j = t_data[np.where(output_spikes[:,j] > 0)]\n",
    "    max_spike_times = 0 \n",
    "    for i in range(10):\n",
    "        class_presentation_times_i = t_data[np.where(labels == i)]\n",
    "        a = spike_times_neuron_j\n",
    "        b = class_presentation_times_i\n",
    "        num_spikes = np.sum(a[:min(len(a), len(b))] == b[:min(len(a), len(b))])\n",
    "        if(num_spikes>max_spike_times):\n",
    "            neuron_class[j] = i"
   ]
  },
  {
   "cell_type": "code",
   "execution_count": null,
   "metadata": {},
   "outputs": [],
   "source": [
    "neuron_class"
   ]
  },
  {
   "cell_type": "code",
   "execution_count": null,
   "metadata": {},
   "outputs": [],
   "source": [
    "t_data = sim.trange()\n",
    "labels = sim.data[p_true_label][:,0]\n",
    "rate_data = nengo.synapses.Lowpass(0.2).filtfilt(sim.data[p_layer_1])\n",
    "\n",
    "output_spikes = sim.data[p_layer_1]\n",
    "predicted_labels = labels * -1   \n",
    "\n",
    "correct_classified = 0\n",
    "wrong_classified = 0\n",
    "\n",
    "for t in range(len(t_data)):\n",
    "    \n",
    "    # Find the index of neuron with highest firing rate : k\n",
    "    k = np.argmax(rate_data[t])\n",
    "    predicted_labels[t] = neuron_class[k]\n",
    "    if(predicted_labels[t] == labels[t]):\n",
    "        correct_classified+=1\n",
    "    else:\n",
    "        wrong_classified+=1"
   ]
  },
  {
   "cell_type": "code",
   "execution_count": null,
   "metadata": {},
   "outputs": [],
   "source": [
    "accuracy = correct_classified/ (correct_classified+wrong_classified)"
   ]
  },
  {
   "cell_type": "code",
   "execution_count": null,
   "metadata": {},
   "outputs": [],
   "source": [
    "accuracy"
   ]
  },
  {
   "cell_type": "markdown",
   "metadata": {},
   "source": [
    "## Testing\n"
   ]
  },
  {
   "cell_type": "code",
   "execution_count": null,
   "metadata": {},
   "outputs": [],
   "source": [
    "# input_nbr = 1000\n",
    "\n",
    "# image_test_filtered = []\n",
    "# label_test_filtered = []\n",
    "\n",
    "# for i in range(0,input_nbr):\n",
    "#     image_test_filtered.append(image_test[i])\n",
    "#     label_test_filtered.append(label_test[i])\n",
    "\n",
    "# image_test_filtered = np.array(image_test_filtered)\n",
    "# label_test_filtered = np.array(label_test_filtered)"
   ]
  },
  {
   "cell_type": "code",
   "execution_count": null,
   "metadata": {},
   "outputs": [],
   "source": [
    "# #How to load the weights, reset the simulations, and run with test dataset?\n",
    "\n",
    "# with model:\n",
    "\n",
    "#     # input layer \n",
    "#     picture = nengo.Node(nengo.processes.PresentInput(image_test_filtered, presentation_time))\n",
    "#     true_label = nengo.Node(nengo.processes.PresentInput(label_test_filtered, presentation_time))"
   ]
  },
  {
   "cell_type": "code",
   "execution_count": null,
   "metadata": {},
   "outputs": [],
   "source": []
  }
 ],
 "metadata": {
  "kernelspec": {
   "display_name": "Python 3",
   "language": "python",
   "name": "python3"
  },
  "language_info": {
   "codemirror_mode": {
    "name": "ipython",
    "version": 3
   },
   "file_extension": ".py",
   "mimetype": "text/x-python",
   "name": "python",
   "nbconvert_exporter": "python",
   "pygments_lexer": "ipython3",
   "version": "3.8.3"
  }
 },
 "nbformat": 4,
 "nbformat_minor": 4
}
